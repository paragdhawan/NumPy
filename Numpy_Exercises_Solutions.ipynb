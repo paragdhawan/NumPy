{
 "cells": [
  {
   "cell_type": "markdown",
   "metadata": {
    "id": "5MZW63-EZ5ju"
   },
   "source": [
    "# `Numpy`, Scientific and numeric library\n"
   ]
  },
  {
   "cell_type": "markdown",
   "metadata": {
    "id": "phXwHvo5Z5jx"
   },
   "source": [
    "`Numerical Python` popularly known as `Numpy` is core library for scientific computing. It provides high performance multi-dimensional array object and tools for working with these objects. \n",
    "\n",
    "In the following sections, we will be working on the `Numpy` library and its uses. We will compare the performance of some `Numpy` operations with their classic `Python` equivalent and discuss the uses of the library. Let us begin!"
   ]
  },
  {
   "cell_type": "markdown",
   "metadata": {
    "id": "GP7ZakVnZ5j0"
   },
   "source": [
    "## 1. Comparing `Python` List vs `Numpy` array"
   ]
  },
  {
   "cell_type": "markdown",
   "metadata": {
    "id": "JmansA_eZ5j2"
   },
   "source": [
    "Consider the following snippet adapted from https://webcourses.ucf.edu/courses/. We start importing the `numpy` and `timeit` libraries. `Numpy`, as we have stated, enables scientific computing and high performance tasks executions with multi-dimensional or n-dimensional arrays. The `Timer` module from `timeit` library is used for the purpose of calculating the time that certain scripts take."
   ]
  },
  {
   "cell_type": "code",
   "execution_count": 1,
   "metadata": {
    "id": "rb1aZpylZ5j3"
   },
   "outputs": [],
   "source": [
    "import numpy as np\n",
    "from timeit import Timer"
   ]
  },
  {
   "cell_type": "markdown",
   "metadata": {
    "id": "dpLvtWqlZ5kB"
   },
   "source": [
    "With imported libraries, we proceed to create two example arrays with numbers in the range [0, 999]:"
   ]
  },
  {
   "cell_type": "code",
   "execution_count": 2,
   "metadata": {
    "id": "rdElZk-VZ5kC"
   },
   "outputs": [],
   "source": [
    "size_of_vec = 10000\n",
    "X_list = range(size_of_vec)\n",
    "Y_list = range(size_of_vec)\n",
    "X = np.arange(size_of_vec)\n",
    "Y = np.arange(size_of_vec)"
   ]
  },
  {
   "cell_type": "markdown",
   "metadata": {
    "id": "ubIk_gOuZ5kJ"
   },
   "source": [
    "To compare the performance of two scripts, one explicitly developed with `Python` and another with `Numpy`, we defined two user functions:"
   ]
  },
  {
   "cell_type": "code",
   "execution_count": 3,
   "metadata": {
    "id": "zUK5vPRaZ5kK"
   },
   "outputs": [],
   "source": [
    "def pure_python_version(): #Explicitly Python based with lists\n",
    "    Z = []\n",
    "    for i in range(len(X_list)):\n",
    "        Z.append(X_list[i] + Y_list[i])\n",
    "    \n",
    "def numpy_version(): #Explicitly Numpy based with vectorization\n",
    "    Z = X + Y "
   ]
  },
  {
   "cell_type": "markdown",
   "metadata": {
    "id": "Aw-o2I9LZ5kQ"
   },
   "source": [
    "We call the developed functions and measure the time it takes to execute them once:"
   ]
  },
  {
   "cell_type": "code",
   "execution_count": 4,
   "metadata": {
    "id": "Jt_iWg4HZ5kR",
    "outputId": "a9ed68fa-487d-4989-da12-b171e2a4f6ec"
   },
   "outputs": [
    {
     "name": "stdout",
     "output_type": "stream",
     "text": [
      "Pure python version: 0.03280369999999877\n",
      "Numpy version: 0.0005044000000005155\n"
     ]
    }
   ],
   "source": [
    "timer_obj1 = Timer(\"pure_python_version()\", \n",
    "                   \"from __main__ import pure_python_version\")\n",
    "timer_obj2 = Timer(\"numpy_version()\", \n",
    "                   \"from __main__ import numpy_version\")\n",
    "\n",
    "print(\"Pure python version:\",timer_obj1.timeit(10))\n",
    "print(\"Numpy version:\",timer_obj2.timeit(10))"
   ]
  },
  {
   "cell_type": "markdown",
   "metadata": {
    "id": "dW0BqCJxZ5kb"
   },
   "source": [
    "As we can see, the vectorized sum approach with `Numpy` is much faster than the purely `Python` based approach."
   ]
  },
  {
   "cell_type": "markdown",
   "metadata": {
    "id": "wGcMFZ8-Z5kc"
   },
   "source": [
    "## 2.Creating `Numpy` array from `Python` list"
   ]
  },
  {
   "cell_type": "markdown",
   "metadata": {
    "id": "4edpsaOoZ5ke"
   },
   "source": [
    "Let's start by creating a `numpy` array from a predefined list with te values 165, 170, 171, 180, 189, and 178:"
   ]
  },
  {
   "cell_type": "code",
   "execution_count": 5,
   "metadata": {
    "id": "JPG6rEujZ5kg",
    "outputId": "7245d07b-df80-4f3c-c2aa-daa6cfc17c60"
   },
   "outputs": [
    {
     "name": "stdout",
     "output_type": "stream",
     "text": [
      "<class 'list'>\n",
      "<class 'numpy.ndarray'>\n"
     ]
    }
   ],
   "source": [
    "heights = [165, 170, 171, 180, 189, 178]\n",
    "print(type(heights))\n",
    "\n",
    "heights_np = np.array(heights)\n",
    "print(type(heights_np))"
   ]
  },
  {
   "cell_type": "markdown",
   "metadata": {
    "id": "Monkh3zdZ5ko"
   },
   "source": [
    "The type of object defined at first is a `list`. After conversion with the `.array()` function, the object is converted into a `ndarray` object. This means that we have created an array of multiple dimensions (`n` dimensions) from a `list`. In this case, the `numpy` array is a **one-dimensional array**.\n",
    "\n",
    "Now let's see how to create a **two-dimensional array**:"
   ]
  },
  {
   "cell_type": "code",
   "execution_count": 6,
   "metadata": {
    "colab": {
     "base_uri": "https://localhost:8080/",
     "height": 121
    },
    "id": "2nEkdFDIZ5kp",
    "outputId": "49aebf40-7f28-4964-f0e4-7098aef25c7f"
   },
   "outputs": [
    {
     "name": "stdout",
     "output_type": "stream",
     "text": [
      "[[50 45 56 78]\n",
      " [78 89 59 90]\n",
      " [89 78 69 70]\n",
      " [67 69 89 70]\n",
      " [90 89 80 84]\n",
      " [89 59 90 78]]\n"
     ]
    }
   ],
   "source": [
    "weights = np.array([[50, 45, 56, 78],[78, 89, 59, 90],[89, 78, 69, 70],[67, 69, 89, 70],[90,89, 80, 84],[89, 59, 90, 78]])\n",
    "print(weights)"
   ]
  },
  {
   "cell_type": "markdown",
   "metadata": {
    "id": "m4NgXVo-Z5ku"
   },
   "source": [
    "## 3. Exploring some of the key attributes of `ndarray` objects"
   ]
  },
  {
   "cell_type": "markdown",
   "metadata": {
    "id": "RXIoPnEBZ5kv"
   },
   "source": [
    "Multidimensional arrays have the following important attributes:\n",
    "\n",
    "- `ndim`: number of dimensions of the array\n",
    "- `shape`: shape of the array in the format `(number_rows, number_columns)`\n",
    "- `size`: total number of elements\n",
    "- `dtypes`: type of data stored in the array\n",
    "- `strides`: number of bytes that must be moved to store each row and column in memory, in the format `(number_bytes_files, number_bytes_columns)`\n",
    "\n",
    "Let's see an example:"
   ]
  },
  {
   "cell_type": "code",
   "execution_count": 7,
   "metadata": {
    "id": "bjRDAo6BZ5kw",
    "outputId": "e897affa-f991-42f5-86a6-5f5a71b9a8b9"
   },
   "outputs": [
    {
     "name": "stdout",
     "output_type": "stream",
     "text": [
      "dimension: 2\n",
      "shape: (6, 4)\n",
      "size: 24\n",
      "dtype: int32\n",
      "strides: (16, 4)\n"
     ]
    }
   ],
   "source": [
    "print(\"dimension:\", weights.ndim)\n",
    "print(\"shape:\", weights.shape)\n",
    "print(\"size:\", weights.size)\n",
    "print(\"dtype:\", weights.dtype)\n",
    "print(\"strides:\", weights.strides)"
   ]
  },
  {
   "cell_type": "markdown",
   "metadata": {
    "id": "BXNvMGWWZ5k0"
   },
   "source": [
    "The exemplified arrangement has:\n",
    "\n",
    "- `ndim` of 2 because it is a two-dimensional array.\n",
    "- `shape` of (6, 4) as it is made up of 6 rows and 4 columns.\n",
    "- `size` of 24 since it has 24 elements in total, 6 elements per column or what is the same, 4 elements per row.\n",
    "- int32 `dtypes` because each element of the array is a 32-bit (4-byte) integer\n",
    "- `strides` of (16, 4) since 16 bytes (4 integers of 4 bytes in the rows) are needed to store each row in memory and 4 bytes (1 integer per column) to store each column in memory."
   ]
  },
  {
   "cell_type": "markdown",
   "metadata": {
    "id": "OsnripzXZ5k0"
   },
   "source": [
    "## Exercise 1\n",
    "\n",
    "Convert the two-dimensional `ndarray` `weights` into a three-dimensional object without changing its shape."
   ]
  },
  {
   "cell_type": "markdown",
   "metadata": {
    "id": "hYJV51AzZ5k1"
   },
   "source": [
    "**Answer:** This is a tricky question. By modifying the content of a two-dimensional array, the shape is preserved. If we reshape the arrangement, the content can remain intact. However, when modifying the dimensions of a two-dimensional array and making it three-dimensional, the shape will necessarily change, since we are including an additional dimension, which makes the pair that represents the shape now have a third value and become a triplet."
   ]
  },
  {
   "cell_type": "markdown",
   "metadata": {
    "id": "0sn8Ezl9Z5k2"
   },
   "source": [
    "## 4. Exploring some of the key functions defined for `numpy` arrays"
   ]
  },
  {
   "cell_type": "markdown",
   "metadata": {
    "id": "L7LG6N_5Z5k3"
   },
   "source": [
    "In this section we are going to explore some of the most important functions of `numpy` arrays:\n",
    "\n",
    "1. `zeros(shape=(n,m))`: Allows to create a zero-array with the shape (`n` rows, `m` columns)\n",
    "2. `arange(start=i, stop=j, step=u)`: creates a one-dimensional array whose first value is `i` inclusive, last value is `j` exclusive, and each value varies  `s` steps from the previous.\n",
    "3. `linspace(start=i, stop=j, num=n)`: creates a one-dimensional array whose first value is `i` inclusive, last value is `j` inclusive and contains `n` values in total. Each value differs from the previous one with the same magnitude that differs from the next.\n",
    "4. `full(shape=(n,m), fill_value=f)`: Allows to create an array with the shape (`n` rows,` m` columns), where all positions have the value `f`.\n",
    "\n",
    "Let's delve into each of them:"
   ]
  },
  {
   "cell_type": "markdown",
   "metadata": {
    "id": "aLwOjE9jZ5k3"
   },
   "source": [
    "### 4.1. np.zeros()"
   ]
  },
  {
   "cell_type": "markdown",
   "metadata": {
    "id": "ERIYmNhRZ5k4"
   },
   "source": [
    "The `zeros(shape=(n,m), dtypes)` function creates a zero-array with the shape (`n` rows, `m` columns) and data types of `dtypes`:"
   ]
  },
  {
   "cell_type": "code",
   "execution_count": 8,
   "metadata": {
    "id": "7aLEv_7jZ5k5",
    "outputId": "7df3fd24-8dad-47ed-db63-16bf09759c47"
   },
   "outputs": [
    {
     "name": "stdout",
     "output_type": "stream",
     "text": [
      "[[0 0 0 0 0]\n",
      " [0 0 0 0 0]\n",
      " [0 0 0 0 0]]\n"
     ]
    }
   ],
   "source": [
    "x = np.zeros(shape=(3,5), dtype =\"int32\")\n",
    "print(x)"
   ]
  },
  {
   "cell_type": "markdown",
   "metadata": {
    "id": "F7FMlXZYZ5k-"
   },
   "source": [
    "As you can notice, we have created a two-dimensional array of zeros of three rows and five columns where each element is a 32-bit integer."
   ]
  },
  {
   "cell_type": "markdown",
   "metadata": {
    "id": "t9Wzwq5aZ5k_"
   },
   "source": [
    "### 4.2. np.arange()"
   ]
  },
  {
   "cell_type": "markdown",
   "metadata": {
    "id": "3PeTDvW1Z5lA"
   },
   "source": [
    "The `arange(start=i, stop=j, step=u)` function creates a one-dimensional array whose first value is `i` inclusive, last value is `j` exclusive, and each value varies  `s` steps from the previous:"
   ]
  },
  {
   "cell_type": "code",
   "execution_count": 9,
   "metadata": {
    "id": "m9Nmo9QjZ5lA",
    "outputId": "19d4c995-67e0-48eb-ad8b-813e25d393c3"
   },
   "outputs": [
    {
     "name": "stdout",
     "output_type": "stream",
     "text": [
      "[100 200 300 400 500 600 700 800 900]\n"
     ]
    }
   ],
   "source": [
    "x = np.arange(start=100, stop=1000, step=100, dtype=\"int32\")\n",
    "print(x)"
   ]
  },
  {
   "cell_type": "markdown",
   "metadata": {
    "id": "FdMDK9ClZ5lE"
   },
   "source": [
    "This function has allowed us to create a one-dimensional array that starts at 100, ends at 1000 (exclusive) and progresses from 100 to 100, with 32-bit integer values."
   ]
  },
  {
   "cell_type": "markdown",
   "metadata": {
    "id": "c0wy3KLzZ5lF"
   },
   "source": [
    "### 4.3. np.linspace()"
   ]
  },
  {
   "cell_type": "markdown",
   "metadata": {
    "id": "BK35XyhgZ5lG"
   },
   "source": [
    "The `linspace(start=i, stop=j, num=n)` function creates a one-dimensional array whose first value is `i` inclusive, last value is `j` inclusive and contains `n` values in total. Each value differs from the previous one with the same magnitude that differs from the next. Consider the following example:"
   ]
  },
  {
   "cell_type": "code",
   "execution_count": 10,
   "metadata": {
    "id": "C40F2HA3Z5lG",
    "outputId": "0124d269-fadf-4368-c6f1-e807b17d08ef"
   },
   "outputs": [
    {
     "name": "stdout",
     "output_type": "stream",
     "text": [
      "[10.         11.37931034 12.75862069 14.13793103 15.51724138 16.89655172\n",
      " 18.27586207 19.65517241 21.03448276 22.4137931  23.79310345 25.17241379\n",
      " 26.55172414 27.93103448 29.31034483 30.68965517 32.06896552 33.44827586\n",
      " 34.82758621 36.20689655 37.5862069  38.96551724 40.34482759 41.72413793\n",
      " 43.10344828 44.48275862 45.86206897 47.24137931 48.62068966 50.        ]\n"
     ]
    }
   ],
   "source": [
    "x_lin = np.linspace(start=10, stop=50, num=30)\n",
    "print(x_lin)"
   ]
  },
  {
   "cell_type": "markdown",
   "metadata": {
    "id": "6suukTKVZ5lL"
   },
   "source": [
    "We have created a one-dimensional array that varies linearly from 10 to 50 inclusive, for a total of 30 floating numbers."
   ]
  },
  {
   "cell_type": "markdown",
   "metadata": {
    "id": "iW7o70yIZ5lO"
   },
   "source": [
    "### 4.4. np.full()"
   ]
  },
  {
   "cell_type": "markdown",
   "metadata": {
    "id": "wG4WNZO0Z5lO"
   },
   "source": [
    "The `full(shape=(n,m), fill_value=f)` function allows to create an array with the shape (`n` rows,` m` columns), where all positions have the value `f`."
   ]
  },
  {
   "cell_type": "code",
   "execution_count": 11,
   "metadata": {
    "id": "iiAZNvpBZ5lP",
    "outputId": "bff97856-c71d-4c7e-e34e-a152c93c2d3e"
   },
   "outputs": [
    {
     "name": "stdout",
     "output_type": "stream",
     "text": [
      "[[3 3 3 3 3 3]\n",
      " [3 3 3 3 3 3]\n",
      " [3 3 3 3 3 3]\n",
      " [3 3 3 3 3 3]\n",
      " [3 3 3 3 3 3]]\n"
     ]
    }
   ],
   "source": [
    "x_ful = np.full(shape=(5,6), fill_value=3)\n",
    "print(x_ful)"
   ]
  },
  {
   "cell_type": "markdown",
   "metadata": {
    "id": "8glywtOgZ5lT"
   },
   "source": [
    "We see that a two-dimensional array of 5 rows and 6 columns has been created, all with a value of 3 at their positions."
   ]
  },
  {
   "cell_type": "markdown",
   "metadata": {
    "id": "vsGTGkAFZ5lU"
   },
   "source": [
    "## 5. Exploring additional attributes and functions"
   ]
  },
  {
   "cell_type": "markdown",
   "metadata": {
    "id": "DG-racSsZ5lV"
   },
   "source": [
    "Let's review three additional functions: `.reshape()`, `.flatten()` and `.ravel()`."
   ]
  },
  {
   "cell_type": "markdown",
   "metadata": {
    "id": "u_RFHq9IZ5lW"
   },
   "source": [
    "### 5.1. Reshaping the array"
   ]
  },
  {
   "cell_type": "markdown",
   "metadata": {
    "id": "I0AsLrQrZ5lX"
   },
   "source": [
    "Let's reshape the `weights` numpy array. First take a look to the contant and the shape of `weights`:"
   ]
  },
  {
   "cell_type": "code",
   "execution_count": 12,
   "metadata": {
    "id": "gVwjRGuZZ5lX",
    "outputId": "bbbda6a4-211e-447e-fe46-ce451e2a6b2d"
   },
   "outputs": [
    {
     "data": {
      "text/plain": [
       "array([[50, 45, 56, 78],\n",
       "       [78, 89, 59, 90],\n",
       "       [89, 78, 69, 70],\n",
       "       [67, 69, 89, 70],\n",
       "       [90, 89, 80, 84],\n",
       "       [89, 59, 90, 78]])"
      ]
     },
     "execution_count": 12,
     "metadata": {},
     "output_type": "execute_result"
    }
   ],
   "source": [
    "weights"
   ]
  },
  {
   "cell_type": "code",
   "execution_count": 13,
   "metadata": {
    "id": "mP8sL4ilZ5lc",
    "outputId": "f9623b0d-340f-4c19-c528-f46d5b530b39"
   },
   "outputs": [
    {
     "data": {
      "text/plain": [
       "(6, 4)"
      ]
     },
     "execution_count": 13,
     "metadata": {},
     "output_type": "execute_result"
    }
   ],
   "source": [
    "weights.shape"
   ]
  },
  {
   "cell_type": "markdown",
   "metadata": {
    "id": "r-oj5Xt_Z5lg"
   },
   "source": [
    "The reshaping procedure is done using the `.reshape((n1,m1))` function, which receives as input parameters a tuple of two values `n1` and `m1` that is, the new shape of the array to be created from the original array:"
   ]
  },
  {
   "cell_type": "code",
   "execution_count": 14,
   "metadata": {
    "id": "QMUBpjmnZ5lg",
    "outputId": "ce3486fb-cbed-4af7-bb45-b82fe16a635e"
   },
   "outputs": [
    {
     "data": {
      "text/plain": [
       "array([[50, 45, 56, 78, 78, 89],\n",
       "       [59, 90, 89, 78, 69, 70],\n",
       "       [67, 69, 89, 70, 90, 89],\n",
       "       [80, 84, 89, 59, 90, 78]])"
      ]
     },
     "execution_count": 14,
     "metadata": {},
     "output_type": "execute_result"
    }
   ],
   "source": [
    "weights = weights.reshape((4,6))\n",
    "weights"
   ]
  },
  {
   "cell_type": "code",
   "execution_count": 15,
   "metadata": {
    "id": "M6_-aLB2Z5lk",
    "outputId": "eea3b46f-e9e0-42e7-b858-8ba0bd6a3d37"
   },
   "outputs": [
    {
     "data": {
      "text/plain": [
       "(4, 6)"
      ]
     },
     "execution_count": 15,
     "metadata": {},
     "output_type": "execute_result"
    }
   ],
   "source": [
    "weights.shape"
   ]
  },
  {
   "cell_type": "markdown",
   "metadata": {
    "id": "D34Anp6DZ5ln"
   },
   "source": [
    "Can you see the difference? We have changed the shape of the `weights` array, from 6 rows and 4 columns, to 4 rows and 6 columns. The way the values are distributed in the new array is from left-to-right then top-to-bottom. \n",
    "\n",
    "Let's add a new dimension through reshaping the current `weights` array:"
   ]
  },
  {
   "cell_type": "code",
   "execution_count": 16,
   "metadata": {
    "id": "ZStURnSrZ5lo",
    "outputId": "8f7393b1-6360-48fe-f174-6b72cd43eed4"
   },
   "outputs": [
    {
     "data": {
      "text/plain": [
       "array([[[50, 45],\n",
       "        [56, 78],\n",
       "        [78, 89],\n",
       "        [59, 90],\n",
       "        [89, 78],\n",
       "        [69, 70]],\n",
       "\n",
       "       [[67, 69],\n",
       "        [89, 70],\n",
       "        [90, 89],\n",
       "        [80, 84],\n",
       "        [89, 59],\n",
       "        [90, 78]]])"
      ]
     },
     "execution_count": 16,
     "metadata": {},
     "output_type": "execute_result"
    }
   ],
   "source": [
    "weights = weights.reshape((2,6,2))\n",
    "weights"
   ]
  },
  {
   "cell_type": "code",
   "execution_count": 17,
   "metadata": {
    "id": "ML1sTM_vZ5lr",
    "outputId": "a3e85095-0701-4a40-9808-ab54989838d0"
   },
   "outputs": [
    {
     "data": {
      "text/plain": [
       "(2, 6, 2)"
      ]
     },
     "execution_count": 17,
     "metadata": {},
     "output_type": "execute_result"
    }
   ],
   "source": [
    "weights.shape"
   ]
  },
  {
   "cell_type": "markdown",
   "metadata": {
    "id": "LxIEuF6nZ5lv"
   },
   "source": [
    "Now, the array is three-dimensionally estructured. Two bi-dimensional (2D) arrays conform the new array, and each of the 2D arrays have two rows and six columns."
   ]
  },
  {
   "cell_type": "markdown",
   "metadata": {
    "id": "OEAFjhItZ5lw"
   },
   "source": [
    "### 5.2. Flattening the array"
   ]
  },
  {
   "cell_type": "markdown",
   "metadata": {
    "id": "snmOyy48Z5lx"
   },
   "source": [
    "The `.flatten()` function returns a copy of an array collapsed into one dimension, no matter how many dimensions the array has. Consider the `weights` two-dimensional array:"
   ]
  },
  {
   "cell_type": "code",
   "execution_count": 18,
   "metadata": {
    "id": "cqVbVwh1Z5lx",
    "outputId": "d012f8e0-0499-423e-8899-486d2ae0857b"
   },
   "outputs": [
    {
     "data": {
      "text/plain": [
       "array([[[50, 45],\n",
       "        [56, 78],\n",
       "        [78, 89],\n",
       "        [59, 90],\n",
       "        [89, 78],\n",
       "        [69, 70]],\n",
       "\n",
       "       [[67, 69],\n",
       "        [89, 70],\n",
       "        [90, 89],\n",
       "        [80, 84],\n",
       "        [89, 59],\n",
       "        [90, 78]]])"
      ]
     },
     "execution_count": 18,
     "metadata": {},
     "output_type": "execute_result"
    }
   ],
   "source": [
    "weights"
   ]
  },
  {
   "cell_type": "markdown",
   "metadata": {
    "id": "ekn7bTC0Z5l1"
   },
   "source": [
    "If we flatten the array, we are re-organizing their elements in a one-dimensional array, as follows:"
   ]
  },
  {
   "cell_type": "code",
   "execution_count": 19,
   "metadata": {
    "id": "BwDz1e-HZ5l2",
    "outputId": "368ac844-ac18-4a0c-d4f0-32a3c361d24f"
   },
   "outputs": [
    {
     "data": {
      "text/plain": [
       "array([50, 45, 56, 78, 78, 89, 59, 90, 89, 78, 69, 70, 67, 69, 89, 70, 90,\n",
       "       89, 80, 84, 89, 59, 90, 78])"
      ]
     },
     "execution_count": 19,
     "metadata": {},
     "output_type": "execute_result"
    }
   ],
   "source": [
    "weights_flattened = weights.flatten()\n",
    "weights_flattened"
   ]
  },
  {
   "cell_type": "markdown",
   "metadata": {
    "id": "pRxr5INlZ5l5"
   },
   "source": [
    "### 5.3. Raveling the array"
   ]
  },
  {
   "cell_type": "markdown",
   "metadata": {
    "id": "0u9DRRyHZ5l6"
   },
   "source": [
    "The `.ravel()` function returns a flattened view of an array collapsed into one dimension. It works identically to the `.flatten()` function, although a copy in memory is not achieve, just a flatten view of the final result. \n",
    "\n",
    "Consider the `weights` two-dimensional array:"
   ]
  },
  {
   "cell_type": "code",
   "execution_count": 20,
   "metadata": {
    "id": "Ss1o22txZ5l6"
   },
   "outputs": [],
   "source": [
    "weights_raveld = weights.ravel()"
   ]
  },
  {
   "cell_type": "code",
   "execution_count": 21,
   "metadata": {
    "id": "p7dBnBgDZ5l-",
    "outputId": "18984d53-3fd8-41c2-9de7-4fbfdfa20b45"
   },
   "outputs": [
    {
     "data": {
      "text/plain": [
       "array([50, 45, 56, 78, 78, 89, 59, 90, 89, 78, 69, 70, 67, 69, 89, 70, 90,\n",
       "       89, 80, 84, 89, 59, 90, 78])"
      ]
     },
     "execution_count": 21,
     "metadata": {},
     "output_type": "execute_result"
    }
   ],
   "source": [
    "weights_raveld"
   ]
  },
  {
   "cell_type": "markdown",
   "metadata": {
    "id": "8UaexP0OZ5mB"
   },
   "source": [
    "Some key differences between flattening and raveling the array are:\n",
    "- `ravel()` function simply returns a flattened view of Numpy array. If you try to modify this view, you will end up with that same changes in the original array. `flatten()` function returns a flattened copy in memory of the array, so that new changes can be made without affecting the original array.\n",
    "- `ravel()` does not occupy memory, being faster than `flatten()`, which occupies memory when copying the flattened objects."
   ]
  },
  {
   "cell_type": "markdown",
   "metadata": {
    "id": "_xDe3cqVZ5mC"
   },
   "source": [
    "## Exercise 2\n",
    "\n",
    "Create an array of 51 elements starting at 100 and ending at 500, using the two functions `np.linspace()` and `np.arange()`. Arrays must have the same content, with the names `array_lin` and `array_ara`, respectively. Verify that the arrays have the same content with the `np.array_equal()` function."
   ]
  },
  {
   "cell_type": "markdown",
   "metadata": {
    "id": "wkjz2yyZZ5mC"
   },
   "source": [
    "**Answer:**"
   ]
  },
  {
   "cell_type": "code",
   "execution_count": 22,
   "metadata": {
    "id": "_ebmAXt9Z5mD",
    "outputId": "2b07a89b-4863-4f5a-defc-ae38e6d69865"
   },
   "outputs": [
    {
     "data": {
      "text/plain": [
       "array([100., 108., 116., 124., 132., 140., 148., 156., 164., 172., 180.,\n",
       "       188., 196., 204., 212., 220., 228., 236., 244., 252., 260., 268.,\n",
       "       276., 284., 292., 300., 308., 316., 324., 332., 340., 348., 356.,\n",
       "       364., 372., 380., 388., 396., 404., 412., 420., 428., 436., 444.,\n",
       "       452., 460., 468., 476., 484., 492., 500.])"
      ]
     },
     "execution_count": 22,
     "metadata": {},
     "output_type": "execute_result"
    }
   ],
   "source": [
    "array_lin = np.linspace(start=100, stop=500, num=51)\n",
    "array_lin"
   ]
  },
  {
   "cell_type": "code",
   "execution_count": 23,
   "metadata": {
    "id": "_HkU9DF3Z5mJ",
    "outputId": "8063ae4d-c5b9-4577-ab55-088bf2b6981d"
   },
   "outputs": [
    {
     "data": {
      "text/plain": [
       "array([100., 108., 116., 124., 132., 140., 148., 156., 164., 172., 180.,\n",
       "       188., 196., 204., 212., 220., 228., 236., 244., 252., 260., 268.,\n",
       "       276., 284., 292., 300., 308., 316., 324., 332., 340., 348., 356.,\n",
       "       364., 372., 380., 388., 396., 404., 412., 420., 428., 436., 444.,\n",
       "       452., 460., 468., 476., 484., 492., 500.])"
      ]
     },
     "execution_count": 23,
     "metadata": {},
     "output_type": "execute_result"
    }
   ],
   "source": [
    "array_ara = np.arange(start=100, stop=501, step=8.0)\n",
    "array_ara"
   ]
  },
  {
   "cell_type": "code",
   "execution_count": 24,
   "metadata": {
    "id": "na14jKSEZ5mM",
    "outputId": "e0152ead-13cf-412e-f3ee-da4242abdff1"
   },
   "outputs": [
    {
     "data": {
      "text/plain": [
       "True"
      ]
     },
     "execution_count": 24,
     "metadata": {},
     "output_type": "execute_result"
    }
   ],
   "source": [
    "np.array_equal(array_lin, array_ara)"
   ]
  },
  {
   "cell_type": "markdown",
   "metadata": {
    "id": "F5lS66PsZ5mP"
   },
   "source": [
    "## 6.Array indexing\n"
   ]
  },
  {
   "cell_type": "markdown",
   "metadata": {
    "id": "wI-31yAHZ5mQ"
   },
   "source": [
    "To access the content of an array we can use indexing through brackets `[ ]`. When using the brackets, we can access the elements on the list by: \n",
    "1. Using a **positive single index** starting from 0\n",
    "2. Using a **negative single index** starting from -1\n",
    "3. Using **positive index intervals** using the `start:end:step` notation to specify starting and ending values as well as the step.\n",
    "4. Using **negative index intervals** using the `start:end:step` notation to specify negative index starting and ending values as well as the step.\n",
    "\n",
    "Occasionally, we can:\n",
    "- Get ride of the the `step` value as `sart:end`, so that by default we slice the data with a `step` of 1. \n",
    "- Get ride of the `start` value as `:fin:step`, and hence our `start` index will be 0, by default.\n",
    "- Omit the `end` value as `start::step`, specifying the final position as the `end` index by default. \n",
    "- Specify the range as `::step`, and hence the `start` position will be 0 and the end position will be the last one of the array.\n",
    "\n",
    "Let's see how indexing works using the `weights` and `heights_np` arrays:"
   ]
  },
  {
   "cell_type": "code",
   "execution_count": 25,
   "metadata": {
    "id": "oNG3GgmUZ5mR",
    "outputId": "2dccc578-e1a2-489f-c30f-17dbf01c3ed8"
   },
   "outputs": [
    {
     "data": {
      "text/plain": [
       "array([[[50, 45],\n",
       "        [56, 78],\n",
       "        [78, 89],\n",
       "        [59, 90],\n",
       "        [89, 78],\n",
       "        [69, 70]],\n",
       "\n",
       "       [[67, 69],\n",
       "        [89, 70],\n",
       "        [90, 89],\n",
       "        [80, 84],\n",
       "        [89, 59],\n",
       "        [90, 78]]])"
      ]
     },
     "execution_count": 25,
     "metadata": {},
     "output_type": "execute_result"
    }
   ],
   "source": [
    "weights"
   ]
  },
  {
   "cell_type": "code",
   "execution_count": 26,
   "metadata": {
    "colab": {
     "base_uri": "https://localhost:8080/",
     "height": 119
    },
    "id": "JN_ghpKZZ5mU",
    "outputId": "4523cded-228a-4346-8722-363f005d42ea"
   },
   "outputs": [
    {
     "data": {
      "text/plain": [
       "array([[50, 45, 56, 78],\n",
       "       [78, 89, 59, 90],\n",
       "       [89, 78, 69, 70],\n",
       "       [67, 69, 89, 70],\n",
       "       [90, 89, 80, 84],\n",
       "       [89, 59, 90, 78]])"
      ]
     },
     "execution_count": 26,
     "metadata": {},
     "output_type": "execute_result"
    }
   ],
   "source": [
    "weights_or = weights.reshape((6,4))\n",
    "weights_or"
   ]
  },
  {
   "cell_type": "code",
   "execution_count": 27,
   "metadata": {
    "id": "1OC_g1VAZ5mY",
    "outputId": "a3214d49-a317-4294-936e-c67f290d2cc6"
   },
   "outputs": [
    {
     "data": {
      "text/plain": [
       "array([165, 170, 171, 180, 189, 178])"
      ]
     },
     "execution_count": 27,
     "metadata": {},
     "output_type": "execute_result"
    }
   ],
   "source": [
    "heights_np"
   ]
  },
  {
   "cell_type": "markdown",
   "metadata": {
    "id": "YRK15CWFZ5mb"
   },
   "source": [
    "### 6.1 Using a positive single index"
   ]
  },
  {
   "cell_type": "markdown",
   "metadata": {
    "id": "w-W9IZPdZ5mc"
   },
   "source": [
    "When using positive indexing, it is important to consider the first position of the array to be 0:"
   ]
  },
  {
   "cell_type": "code",
   "execution_count": 28,
   "metadata": {
    "id": "I_-hJtNDZ5md",
    "outputId": "0c4f7d07-d808-46bf-d7e6-10ba5ad5aa99",
    "scrolled": true
   },
   "outputs": [
    {
     "name": "stdout",
     "output_type": "stream",
     "text": [
      "Accessing single element in 1D array: 171\n",
      "Accessing single element in 2D array: 90\n"
     ]
    }
   ],
   "source": [
    "print(\"Accessing single element in 1D array:\", heights_np[2])\n",
    "print(\"Accessing single element in 2D array:\", weights_or[1][3])"
   ]
  },
  {
   "cell_type": "code",
   "execution_count": 29,
   "metadata": {
    "id": "d6paKEBuZ5mk",
    "outputId": "e241880c-9220-49d0-9bdc-9dd1d950a0e3",
    "scrolled": false
   },
   "outputs": [
    {
     "ename": "IndexError",
     "evalue": "index 7 is out of bounds for axis 0 with size 6",
     "output_type": "error",
     "traceback": [
      "\u001b[1;31m---------------------------------------------------------------------------\u001b[0m",
      "\u001b[1;31mIndexError\u001b[0m                                Traceback (most recent call last)",
      "\u001b[1;32m<ipython-input-29-c1b0cf84b168>\u001b[0m in \u001b[0;36m<module>\u001b[1;34m\u001b[0m\n\u001b[1;32m----> 1\u001b[1;33m \u001b[0mheights_np\u001b[0m\u001b[1;33m[\u001b[0m\u001b[1;36m7\u001b[0m\u001b[1;33m]\u001b[0m\u001b[1;33m\u001b[0m\u001b[1;33m\u001b[0m\u001b[0m\n\u001b[0m",
      "\u001b[1;31mIndexError\u001b[0m: index 7 is out of bounds for axis 0 with size 6"
     ]
    }
   ],
   "source": [
    "heights_np[7]"
   ]
  },
  {
   "cell_type": "markdown",
   "metadata": {
    "id": "uf954_XdZ5mo"
   },
   "source": [
    "**Why are we getting this error message?**\n",
    "\n",
    "Well guessed! It is because position 7 does not exist in the `heights_np` array, it is totally out of the bounds defined by the array's shape and size. The array has 6 elements, the last element being in position 5."
   ]
  },
  {
   "cell_type": "markdown",
   "metadata": {
    "id": "2M2BtpIeZ5mp"
   },
   "source": [
    "### 6.2 Using a negative single index starting"
   ]
  },
  {
   "cell_type": "markdown",
   "metadata": {
    "id": "utJZoJ-oZ5mp"
   },
   "source": [
    "When using negative indexing, it is important to consider the last position of the array to be -1:"
   ]
  },
  {
   "cell_type": "code",
   "execution_count": 30,
   "metadata": {
    "id": "mO8HKI9WZ5mq",
    "outputId": "48b24963-2ee8-4de6-ca82-0cca0014b5fa",
    "scrolled": true
   },
   "outputs": [
    {
     "name": "stdout",
     "output_type": "stream",
     "text": [
      "Accessing single element in 1D array: 171\n",
      "Accessing single element in 2D array: 90\n"
     ]
    }
   ],
   "source": [
    "print(\"Accessing single element in 1D array:\", heights_np[-4])\n",
    "print(\"Accessing single element in 2D array:\", weights_or[-5][-1])"
   ]
  },
  {
   "cell_type": "code",
   "execution_count": 31,
   "metadata": {
    "id": "Vse7oo3cZ5mt",
    "outputId": "190ace4e-2063-4ae4-f971-5c2fd62e98c9",
    "scrolled": true
   },
   "outputs": [
    {
     "ename": "IndexError",
     "evalue": "index -8 is out of bounds for axis 0 with size 6",
     "output_type": "error",
     "traceback": [
      "\u001b[1;31m---------------------------------------------------------------------------\u001b[0m",
      "\u001b[1;31mIndexError\u001b[0m                                Traceback (most recent call last)",
      "\u001b[1;32m<ipython-input-31-7c81311360da>\u001b[0m in \u001b[0;36m<module>\u001b[1;34m\u001b[0m\n\u001b[1;32m----> 1\u001b[1;33m \u001b[0mheights_np\u001b[0m\u001b[1;33m[\u001b[0m\u001b[1;33m-\u001b[0m\u001b[1;36m8\u001b[0m\u001b[1;33m]\u001b[0m\u001b[1;33m\u001b[0m\u001b[1;33m\u001b[0m\u001b[0m\n\u001b[0m",
      "\u001b[1;31mIndexError\u001b[0m: index -8 is out of bounds for axis 0 with size 6"
     ]
    }
   ],
   "source": [
    "heights_np[-8]"
   ]
  },
  {
   "cell_type": "markdown",
   "metadata": {
    "id": "MzaRvBhjZ5m0"
   },
   "source": [
    "**Why are we getting this error message again?**\n",
    "\n",
    "Well guessed! It is because position -8 does not exist in the `heights_np` array, it is totally out of the bounds defined by the array's shape and size. The array has 6 elements, the last element being in position -1 and the first element being in position -6."
   ]
  },
  {
   "cell_type": "markdown",
   "metadata": {
    "id": "bEhC2JC3Z5m1"
   },
   "source": [
    "### 6.3 Using positive index intervals"
   ]
  },
  {
   "cell_type": "markdown",
   "metadata": {
    "id": "yMGIQkpXZ5m2"
   },
   "source": [
    "When using positive interval indexing `start:end:step`, the starting value is inclusive and the ending value is exlusive. Here are somoe examples:"
   ]
  },
  {
   "cell_type": "code",
   "execution_count": 32,
   "metadata": {
    "id": "GZKTlyyIZ5m4",
    "outputId": "fd08c509-5f06-497d-a045-c13be5bb8094"
   },
   "outputs": [
    {
     "data": {
      "text/plain": [
       "array([165, 170])"
      ]
     },
     "execution_count": 32,
     "metadata": {},
     "output_type": "execute_result"
    }
   ],
   "source": [
    "heights_np[:2] # The default start value is 0"
   ]
  },
  {
   "cell_type": "code",
   "execution_count": 33,
   "metadata": {
    "id": "x0G6CBJ6Z5m_",
    "outputId": "406f6975-cd91-4f3e-e992-5db20fd82528"
   },
   "outputs": [
    {
     "data": {
      "text/plain": [
       "array([171, 180, 189, 178])"
      ]
     },
     "execution_count": 33,
     "metadata": {},
     "output_type": "execute_result"
    }
   ],
   "source": [
    "heights_np[2:] # The default end value is the last value of the array"
   ]
  },
  {
   "cell_type": "code",
   "execution_count": 34,
   "metadata": {
    "id": "RC6wYYL6Z5nE",
    "outputId": "e69e821b-d61e-4b35-85b2-cc899dc49522"
   },
   "outputs": [
    {
     "data": {
      "text/plain": [
       "array([171])"
      ]
     },
     "execution_count": 34,
     "metadata": {},
     "output_type": "execute_result"
    }
   ],
   "source": [
    "heights_np[2:3] # The ending value is exlusive"
   ]
  },
  {
   "cell_type": "code",
   "execution_count": 35,
   "metadata": {
    "id": "_EiLc2LLZ5nI",
    "outputId": "5b518c90-5034-42bb-b7f1-f37341b8e196"
   },
   "outputs": [
    {
     "data": {
      "text/plain": [
       "array([[[50, 45],\n",
       "        [78, 89],\n",
       "        [89, 78]],\n",
       "\n",
       "       [[67, 69],\n",
       "        [90, 89],\n",
       "        [89, 59]]])"
      ]
     },
     "execution_count": 35,
     "metadata": {},
     "output_type": "execute_result"
    }
   ],
   "source": [
    "weights[:2, ::2]"
   ]
  },
  {
   "cell_type": "code",
   "execution_count": 36,
   "metadata": {
    "id": "jTThDP3XZ5nL",
    "outputId": "99e506b3-7dc2-49f5-945e-98105645cd3c"
   },
   "outputs": [
    {
     "data": {
      "text/plain": [
       "array([[[59, 90],\n",
       "        [89, 78],\n",
       "        [69, 70]],\n",
       "\n",
       "       [[80, 84],\n",
       "        [89, 59],\n",
       "        [90, 78]]])"
      ]
     },
     "execution_count": 36,
     "metadata": {},
     "output_type": "execute_result"
    }
   ],
   "source": [
    "weights[:3, 3::]"
   ]
  },
  {
   "cell_type": "code",
   "execution_count": 37,
   "metadata": {
    "id": "ah2UUQQmZ5nO",
    "outputId": "15086cbd-efae-4264-d582-81e60b00cbc0"
   },
   "outputs": [
    {
     "data": {
      "text/plain": [
       "array([[[50],\n",
       "        [56],\n",
       "        [78]],\n",
       "\n",
       "       [[67],\n",
       "        [89],\n",
       "        [90]]])"
      ]
     },
     "execution_count": 37,
     "metadata": {},
     "output_type": "execute_result"
    }
   ],
   "source": [
    "weights[:3, :3, :1]"
   ]
  },
  {
   "cell_type": "markdown",
   "metadata": {
    "id": "jBx2wpKWZ5nR"
   },
   "source": [
    "### 6.4 Using negative index intervals"
   ]
  },
  {
   "cell_type": "markdown",
   "metadata": {
    "id": "fMEK6lZsZ5nS"
   },
   "source": [
    "When using positive interval indexing `start:end:step`, the negative starting value is inclusive and the negative ending value is exlusive. Here are somoe examples:"
   ]
  },
  {
   "cell_type": "code",
   "execution_count": 38,
   "metadata": {
    "id": "Qtn4VznDZ5nS",
    "outputId": "36c589e2-16f4-4e6b-d0d7-2808e3aec4d0"
   },
   "outputs": [
    {
     "data": {
      "text/plain": [
       "array([165, 170])"
      ]
     },
     "execution_count": 38,
     "metadata": {},
     "output_type": "execute_result"
    }
   ],
   "source": [
    "heights_np[:-4] # Equivalent to heights_np[:2]"
   ]
  },
  {
   "cell_type": "code",
   "execution_count": 39,
   "metadata": {
    "id": "DtbO0l1TZ5nV",
    "outputId": "9a6bb543-29c3-4770-c4ef-b1be3d362494"
   },
   "outputs": [
    {
     "data": {
      "text/plain": [
       "array([171, 180, 189, 178])"
      ]
     },
     "execution_count": 39,
     "metadata": {},
     "output_type": "execute_result"
    }
   ],
   "source": [
    "heights_np[-4:] # Equivalent to heights_np[2:]"
   ]
  },
  {
   "cell_type": "code",
   "execution_count": 40,
   "metadata": {
    "id": "_2XTkaYzZ5nY",
    "outputId": "76dc6b56-2ab3-4764-eb78-9c2ad3ea5e1e"
   },
   "outputs": [
    {
     "data": {
      "text/plain": [
       "array([171])"
      ]
     },
     "execution_count": 40,
     "metadata": {},
     "output_type": "execute_result"
    }
   ],
   "source": [
    "heights_np[-4:-3] # Equivalent to heights_np[2:3]"
   ]
  },
  {
   "cell_type": "code",
   "execution_count": 41,
   "metadata": {
    "id": "8aH0wJbRZ5ne",
    "outputId": "f896cea1-d540-4b83-d3cd-c3932679bacd"
   },
   "outputs": [
    {
     "data": {
      "text/plain": [
       "array([[[59, 90],\n",
       "        [89, 78],\n",
       "        [69, 70]],\n",
       "\n",
       "       [[80, 84],\n",
       "        [89, 59],\n",
       "        [90, 78]]])"
      ]
     },
     "execution_count": 41,
     "metadata": {},
     "output_type": "execute_result"
    }
   ],
   "source": [
    "weights[:2, -3::] # Equivalent to weights[:3, 3::]"
   ]
  },
  {
   "cell_type": "code",
   "execution_count": 42,
   "metadata": {
    "id": "ZFBRInxoZ5nh",
    "outputId": "9722dfd3-8624-4c43-fdf9-ceb09179a881",
    "scrolled": true
   },
   "outputs": [
    {
     "data": {
      "text/plain": [
       "array([[[50],\n",
       "        [56],\n",
       "        [78]],\n",
       "\n",
       "       [[67],\n",
       "        [89],\n",
       "        [90]]])"
      ]
     },
     "execution_count": 42,
     "metadata": {},
     "output_type": "execute_result"
    }
   ],
   "source": [
    "weights[:3, :-3, :-1] # Equivalent to weights[:3, :3, :1]"
   ]
  },
  {
   "cell_type": "markdown",
   "metadata": {
    "id": "xrw2UAUuZ5nl"
   },
   "source": [
    "## Exercise 3\n",
    "\n",
    "Consider the `weights_or` array:\n",
    "\n",
    "1. Select all the values at evenly positioned rows and oddly positioned columns. Create a new array named `weights_custom1` with these values.\n",
    "2. Express the `weights_custom1` array flattened with an in-memory copy. Call the new array `weights_custom2`.\n",
    "3. Select items in positions 2 to 4 inclusive with negative indexing. Name the output array as `weights_custom3`."
   ]
  },
  {
   "cell_type": "markdown",
   "metadata": {
    "id": "iBHgYcscZ5nm"
   },
   "source": [
    "**Answer:**"
   ]
  },
  {
   "cell_type": "code",
   "execution_count": 43,
   "metadata": {
    "colab": {
     "base_uri": "https://localhost:8080/",
     "height": 119
    },
    "id": "0LEqsyPWZ5nm",
    "outputId": "625e1d34-6862-4483-a84f-e5ad6616f374"
   },
   "outputs": [
    {
     "data": {
      "text/plain": [
       "array([[50, 45, 56, 78],\n",
       "       [78, 89, 59, 90],\n",
       "       [89, 78, 69, 70],\n",
       "       [67, 69, 89, 70],\n",
       "       [90, 89, 80, 84],\n",
       "       [89, 59, 90, 78]])"
      ]
     },
     "execution_count": 43,
     "metadata": {},
     "output_type": "execute_result"
    }
   ],
   "source": [
    "weights_or"
   ]
  },
  {
   "cell_type": "code",
   "execution_count": 44,
   "metadata": {
    "colab": {
     "base_uri": "https://localhost:8080/",
     "height": 68
    },
    "id": "HAxQfsGSZ5nq",
    "outputId": "d4df165f-aac2-4f0b-ca9e-fc30b6c6c979"
   },
   "outputs": [
    {
     "data": {
      "text/plain": [
       "array([[78, 59],\n",
       "       [67, 89],\n",
       "       [89, 90]])"
      ]
     },
     "execution_count": 44,
     "metadata": {},
     "output_type": "execute_result"
    }
   ],
   "source": [
    "# Answer #1 - Selecting values at even positions in the rows and odd positions in columns\n",
    "weights_custom1 = weights_or[1::2, ::2]\n",
    "weights_custom1"
   ]
  },
  {
   "cell_type": "code",
   "execution_count": 45,
   "metadata": {
    "id": "Xj94LskAZ5nv",
    "outputId": "671416a2-d63c-48e7-b709-b8f7b0a36849"
   },
   "outputs": [
    {
     "data": {
      "text/plain": [
       "array([78, 59, 67, 89, 89, 90])"
      ]
     },
     "execution_count": 45,
     "metadata": {},
     "output_type": "execute_result"
    }
   ],
   "source": [
    "# Answer #2 - Expressing the weights_custom1 array flattened with an in-memory copy\n",
    "weights_custom2 = weights_custom1.flatten()\n",
    "weights_custom2"
   ]
  },
  {
   "cell_type": "code",
   "execution_count": 46,
   "metadata": {
    "id": "OpTnac1OZ5n3",
    "outputId": "e7f84bc4-6ea0-42d1-ae37-dc49ba96bb41"
   },
   "outputs": [
    {
     "data": {
      "text/plain": [
       "array([67, 89, 89])"
      ]
     },
     "execution_count": 46,
     "metadata": {},
     "output_type": "execute_result"
    }
   ],
   "source": [
    "# Answer #3 - Selecting the items in positions 2 to 4 inclusive with negative indexing\n",
    "weights_custom3 = weights_custom2[-4:-1]\n",
    "weights_custom3"
   ]
  },
  {
   "cell_type": "markdown",
   "metadata": {
    "id": "cmXdbpmSZ5n7"
   },
   "source": [
    "## 7.Manipulating `Numpy` arrays\n"
   ]
  },
  {
   "cell_type": "markdown",
   "metadata": {
    "id": "z1pv6TcuZ5n8"
   },
   "source": [
    "Arrays can be manipulated using arithmetic, logical, or relational operations in an element-wise way. Let's see how these operations are applied, using our arrays `weights_or`, `heights_np`, and and some other arrays that we will create."
   ]
  },
  {
   "cell_type": "markdown",
   "metadata": {
    "id": "WhXq8SAVZ5n9"
   },
   "source": [
    "### 7.1. Arithmetic operations"
   ]
  },
  {
   "cell_type": "markdown",
   "metadata": {
    "id": "pTaiSOUNZ5n-"
   },
   "source": [
    "We are going to operate the content of the arrays with the four traditional arithmetic operations, addition, subtraction, product, and division. Let's first define our arrays again:"
   ]
  },
  {
   "cell_type": "code",
   "execution_count": 47,
   "metadata": {
    "id": "MFYxucqNZ5n_",
    "outputId": "a9c6034f-b79a-4c32-be80-51628b1c2ac0"
   },
   "outputs": [
    {
     "data": {
      "text/plain": [
       "array([[50, 45, 56, 78],\n",
       "       [78, 89, 59, 90],\n",
       "       [89, 78, 69, 70],\n",
       "       [67, 69, 89, 70],\n",
       "       [90, 89, 80, 84],\n",
       "       [89, 59, 90, 78]])"
      ]
     },
     "execution_count": 47,
     "metadata": {},
     "output_type": "execute_result"
    }
   ],
   "source": [
    "weights_or"
   ]
  },
  {
   "cell_type": "code",
   "execution_count": 48,
   "metadata": {
    "id": "jYniPguUZ5oD",
    "outputId": "7e963ef4-db44-4a13-b258-ed11e140fc1f"
   },
   "outputs": [
    {
     "name": "stdout",
     "output_type": "stream",
     "text": [
      "heights_np: [165 170 171 180 189 178]\n",
      "heights_2:  [165 175 180 189 187 186]\n"
     ]
    }
   ],
   "source": [
    "heights_2 = np.array([165, 175, 180, 189, 187, 186])\n",
    "print('heights_np:', heights_np) \n",
    "print('heights_2: ', heights_2)"
   ]
  },
  {
   "cell_type": "markdown",
   "metadata": {
    "id": "FutiH6X1Z5oI"
   },
   "source": [
    "Let's add the content of the two arrays element-wise:"
   ]
  },
  {
   "cell_type": "code",
   "execution_count": 49,
   "metadata": {
    "id": "_1NoVrNdZ5oJ",
    "outputId": "5b20422d-a1b3-40fc-fb01-5d3ecf32a8b8"
   },
   "outputs": [
    {
     "data": {
      "text/plain": [
       "array([330, 345, 351, 369, 376, 364])"
      ]
     },
     "execution_count": 49,
     "metadata": {},
     "output_type": "execute_result"
    }
   ],
   "source": [
    "heights_add = heights_np + heights_2\n",
    "heights_add"
   ]
  },
  {
   "cell_type": "markdown",
   "metadata": {
    "id": "XyX7S8wQZ5oO"
   },
   "source": [
    "The `np.add()` function allows adding the content of arrays element-wise:"
   ]
  },
  {
   "cell_type": "code",
   "execution_count": 50,
   "metadata": {
    "id": "uv1WTfadZ5oP",
    "outputId": "88e566d2-23ff-4f9d-d3e7-e0640343c7ec"
   },
   "outputs": [
    {
     "data": {
      "text/plain": [
       "array([330, 345, 351, 369, 376, 364])"
      ]
     },
     "execution_count": 50,
     "metadata": {},
     "output_type": "execute_result"
    }
   ],
   "source": [
    "added = np.add(heights_2, heights_np)\n",
    "added"
   ]
  },
  {
   "cell_type": "markdown",
   "metadata": {
    "id": "FI00PwvqZ5oR"
   },
   "source": [
    "## Exercise 4\n",
    "\n",
    "Since we have seen how to add element-wise elements of one-dimensional arrays:\n",
    "1. Calculate the subtraction, multiplication and division between the `heights_np` and `heights_2` arrays. Compare the results by using the functions: `np.subtract()`, `np.multiply()`, and `np.divide()`.\n",
    "2. Calculate the product element-wise of the multiplicative inverses ($1/x$) between the arrays `heights_np` and `heights_2`, using numpy functions. For instante, if an element in `heights_np` $x1=5$ and an element in `heights_2` $y1=4$, then the result should be $z=(1/x1)*(1/y1)=1/20=0.05$."
   ]
  },
  {
   "cell_type": "markdown",
   "metadata": {
    "id": "-Mwq9db4Z5oS"
   },
   "source": [
    "**Answer:**"
   ]
  },
  {
   "cell_type": "code",
   "execution_count": 51,
   "metadata": {
    "id": "8n-kgip-Z5oT",
    "outputId": "1849877f-ec80-418b-f4ee-160cc041277a"
   },
   "outputs": [
    {
     "data": {
      "text/plain": [
       "array([ 0,  5,  9,  9, -2,  8])"
      ]
     },
     "execution_count": 51,
     "metadata": {},
     "output_type": "execute_result"
    }
   ],
   "source": [
    "# Answer substraction\n",
    "np.subtract(heights_2, heights_np)"
   ]
  },
  {
   "cell_type": "code",
   "execution_count": 52,
   "metadata": {
    "id": "GOxVO3PDZ5od",
    "outputId": "308b499d-0dd3-4461-d3c3-307c2b7e8cbb"
   },
   "outputs": [
    {
     "data": {
      "text/plain": [
       "array([27225, 29750, 30780, 34020, 35343, 33108])"
      ]
     },
     "execution_count": 52,
     "metadata": {},
     "output_type": "execute_result"
    }
   ],
   "source": [
    "# Answer multiplication\n",
    "np.multiply(heights_2, heights_np)"
   ]
  },
  {
   "cell_type": "code",
   "execution_count": 53,
   "metadata": {
    "id": "rqT5TPgzZ5og",
    "outputId": "479173aa-2802-4ecb-f297-8d18ae25782c"
   },
   "outputs": [
    {
     "data": {
      "text/plain": [
       "array([1.        , 1.02941176, 1.05263158, 1.05      , 0.98941799,\n",
       "       1.04494382])"
      ]
     },
     "execution_count": 53,
     "metadata": {},
     "output_type": "execute_result"
    }
   ],
   "source": [
    "# Answer division\n",
    "np.divide(heights_2, heights_np)"
   ]
  },
  {
   "cell_type": "code",
   "execution_count": 54,
   "metadata": {
    "id": "5LFEwax3Z5oj",
    "outputId": "f5af20e3-a5e9-469c-f2ad-afb7aea962b9"
   },
   "outputs": [
    {
     "name": "stdout",
     "output_type": "stream",
     "text": [
      "Without Numpy functions:\n",
      " [3.67309458e-05 3.36134454e-05 3.24886290e-05 2.93944738e-05\n",
      " 2.82941459e-05 3.02041803e-05]\n",
      "\n",
      "With Numpy functions:\n",
      " [3.67309458e-05 3.36134454e-05 3.24886290e-05 2.93944738e-05\n",
      " 2.82941459e-05 3.02041803e-05]\n"
     ]
    }
   ],
   "source": [
    "# Without the inclusion of Numpy functions\n",
    "m_inverse1 = (1/heights_2)*(1/heights_np)\n",
    "print('Without Numpy functions:\\n',m_inverse1)\n",
    "\n",
    "# With Numpy functions\n",
    "m_inverse2 = np.multiply(np.divide(1, heights_2),np.divide(1, heights_np))\n",
    "print('\\nWith Numpy functions:\\n',m_inverse2)"
   ]
  },
  {
   "cell_type": "markdown",
   "metadata": {
    "id": "lBTEElimZ5ol"
   },
   "source": [
    "### 7.2. Logical operations"
   ]
  },
  {
   "cell_type": "markdown",
   "metadata": {
    "id": "9nkATimzZ5om"
   },
   "source": [
    "Logical operations are mathematical expressions whose result is a Boolean value of 0 (False) or 1 (True). Among the most common logical operations are the disjunction `or`, conjunction `and`, and negation `not`operations, among others. Let's see an example:"
   ]
  },
  {
   "cell_type": "code",
   "execution_count": 55,
   "metadata": {
    "id": "uBAjMW5oZ5om"
   },
   "outputs": [],
   "source": [
    "x = np.array([True, True, False, False])\n",
    "y = np.array([True, False, True, False])"
   ]
  },
  {
   "cell_type": "code",
   "execution_count": 56,
   "metadata": {
    "id": "-VGHzLTAZ5op",
    "outputId": "b3c806aa-f191-471e-ac0f-6f0640b07579"
   },
   "outputs": [
    {
     "data": {
      "text/plain": [
       "array([ True,  True,  True, False])"
      ]
     },
     "execution_count": 56,
     "metadata": {},
     "output_type": "execute_result"
    }
   ],
   "source": [
    "np.logical_or(x,y)"
   ]
  },
  {
   "cell_type": "code",
   "execution_count": 57,
   "metadata": {
    "id": "MOLkzHY6Z5os",
    "outputId": "eb7a058b-42a4-40df-e639-003f5f4f5560"
   },
   "outputs": [
    {
     "data": {
      "text/plain": [
       "array([ True, False, False, False])"
      ]
     },
     "execution_count": 57,
     "metadata": {},
     "output_type": "execute_result"
    }
   ],
   "source": [
    "np.logical_and(x,y)"
   ]
  },
  {
   "cell_type": "code",
   "execution_count": 58,
   "metadata": {
    "id": "aQmwxaw-Z5ov",
    "outputId": "de44b485-7279-47b7-9963-b38f7f3cc309"
   },
   "outputs": [
    {
     "data": {
      "text/plain": [
       "array([False, False,  True,  True])"
      ]
     },
     "execution_count": 58,
     "metadata": {},
     "output_type": "execute_result"
    }
   ],
   "source": [
    "np.logical_not(x)"
   ]
  },
  {
   "cell_type": "markdown",
   "metadata": {
    "id": "7QszcDUbZ5ox"
   },
   "source": [
    "### 7.3.Comparison - Relational operators"
   ]
  },
  {
   "cell_type": "markdown",
   "metadata": {
    "id": "t3n1G5uyZ5oy"
   },
   "source": [
    "The comparison operators allow us to compare the values of the content of `numpy` arrays element-wise. Some operators of interest (a) equality operator `np.equal()`, (b) less than operator `np.less()`/`np.less_equal()`, (c) greater than operator `np.greater()`/`np.greater_equal()`, and (d) difference operator `np.not_equal()`. It is important to note that the output will always be Boolean 0 (False) or 1 (True).\n",
    "\n",
    "Let's see some examples:"
   ]
  },
  {
   "cell_type": "code",
   "execution_count": 59,
   "metadata": {
    "id": "dOkqurwhZ5o2"
   },
   "outputs": [],
   "source": [
    "x = np.array([1, 8, 3, 7, 3, 21])\n",
    "y = np.array([4, 8, 1, 7, 6, 9])"
   ]
  },
  {
   "cell_type": "code",
   "execution_count": 60,
   "metadata": {
    "id": "9-Bg51yrZ5o4",
    "outputId": "c947349e-8e0b-41e3-c58d-cee6768a6fd2"
   },
   "outputs": [
    {
     "data": {
      "text/plain": [
       "array([False,  True, False,  True, False, False])"
      ]
     },
     "execution_count": 60,
     "metadata": {},
     "output_type": "execute_result"
    }
   ],
   "source": [
    "np.equal(x,y)"
   ]
  },
  {
   "cell_type": "code",
   "execution_count": 61,
   "metadata": {
    "id": "WjfjBkTQZ5o6",
    "outputId": "2a45ea0c-168a-46c6-db2d-0c9d1a9d89d9"
   },
   "outputs": [
    {
     "data": {
      "text/plain": [
       "array([ True, False,  True, False,  True,  True])"
      ]
     },
     "execution_count": 61,
     "metadata": {},
     "output_type": "execute_result"
    }
   ],
   "source": [
    "np.not_equal(x,y)"
   ]
  },
  {
   "cell_type": "code",
   "execution_count": 62,
   "metadata": {
    "id": "ZGDOMFugZ5o9",
    "outputId": "2c025b28-2dec-4843-e637-32c25fe04a8c"
   },
   "outputs": [
    {
     "data": {
      "text/plain": [
       "array([ True,  True, False,  True,  True, False])"
      ]
     },
     "execution_count": 62,
     "metadata": {},
     "output_type": "execute_result"
    }
   ],
   "source": [
    "np.less_equal(x,y)"
   ]
  },
  {
   "cell_type": "code",
   "execution_count": 63,
   "metadata": {
    "id": "WwTQmzjIZ5pA",
    "outputId": "49e4cd3e-3b73-4705-abd5-2d6f7aba88f9"
   },
   "outputs": [
    {
     "data": {
      "text/plain": [
       "array([False,  True,  True,  True, False,  True])"
      ]
     },
     "execution_count": 63,
     "metadata": {},
     "output_type": "execute_result"
    }
   ],
   "source": [
    "np.greater_equal(x,y)"
   ]
  },
  {
   "cell_type": "code",
   "execution_count": 64,
   "metadata": {
    "id": "b6lad6HEZ5pD",
    "outputId": "68e1fdb3-9ed2-4cb3-ed71-2da93b283f70"
   },
   "outputs": [
    {
     "data": {
      "text/plain": [
       "False"
      ]
     },
     "execution_count": 64,
     "metadata": {},
     "output_type": "execute_result"
    }
   ],
   "source": [
    "np.array_equal(x,y) # Comparing the entire content of both arrays"
   ]
  },
  {
   "cell_type": "code",
   "execution_count": 65,
   "metadata": {
    "id": "41uUkAkjZ5pG",
    "outputId": "8da9eba7-3d46-42e0-8e09-01fae23b0d39"
   },
   "outputs": [
    {
     "data": {
      "text/plain": [
       "True"
      ]
     },
     "execution_count": 65,
     "metadata": {},
     "output_type": "execute_result"
    }
   ],
   "source": [
    "x = np.array([1, 8, 3, 7, 3, 21])\n",
    "y = np.array(list((1, 8, 3, 7, 3, 21)))\n",
    "np.array_equal(x,y) # Comparing the entire content of both arrays"
   ]
  },
  {
   "cell_type": "markdown",
   "metadata": {
    "id": "pOnhsLLXZ5pI"
   },
   "source": [
    "## 8. Broadcasting"
   ]
  },
  {
   "cell_type": "markdown",
   "metadata": {
    "id": "E7VJ1hr6Z5pJ"
   },
   "source": [
    "`numpy` has the ability of operating arrays of different shapes during arithmetic operations using **broadcasting**, so that arithmetic operations on arrays are done on corresponding elements. The boradcasting operation replicates one of the arrays along the dimensions the other, if there is a mismatch of shapes. Consider the following arrays:"
   ]
  },
  {
   "cell_type": "code",
   "execution_count": 66,
   "metadata": {
    "id": "JSGnAadaZ5pJ",
    "outputId": "9b4a4e2b-3a24-4eab-8143-2bae882717ba"
   },
   "outputs": [
    {
     "data": {
      "text/plain": [
       "array([[165],\n",
       "       [170],\n",
       "       [171],\n",
       "       [180],\n",
       "       [189],\n",
       "       [178]])"
      ]
     },
     "execution_count": 66,
     "metadata": {},
     "output_type": "execute_result"
    }
   ],
   "source": [
    "heights_np = heights_np.reshape((6,1))\n",
    "heights_np"
   ]
  },
  {
   "cell_type": "code",
   "execution_count": 67,
   "metadata": {
    "id": "tZ2xYkY1Z5pM",
    "outputId": "4a27d3a2-57c4-4b33-d6b6-904b023771c3"
   },
   "outputs": [
    {
     "data": {
      "text/plain": [
       "array([[[50, 45],\n",
       "        [56, 78],\n",
       "        [78, 89],\n",
       "        [59, 90],\n",
       "        [89, 78],\n",
       "        [69, 70]],\n",
       "\n",
       "       [[67, 69],\n",
       "        [89, 70],\n",
       "        [90, 89],\n",
       "        [80, 84],\n",
       "        [89, 59],\n",
       "        [90, 78]]])"
      ]
     },
     "execution_count": 67,
     "metadata": {},
     "output_type": "execute_result"
    }
   ],
   "source": [
    "weights"
   ]
  },
  {
   "cell_type": "markdown",
   "metadata": {
    "id": "eUVD3kJvZ5pP"
   },
   "source": [
    "We are going to add the elements of both arrays:"
   ]
  },
  {
   "cell_type": "code",
   "execution_count": 68,
   "metadata": {
    "id": "Xbit_phhZ5pP",
    "outputId": "b9af77df-3702-4376-d651-1608a9deb983"
   },
   "outputs": [
    {
     "data": {
      "text/plain": [
       "array([[[215, 210],\n",
       "        [226, 248],\n",
       "        [249, 260],\n",
       "        [239, 270],\n",
       "        [278, 267],\n",
       "        [247, 248]],\n",
       "\n",
       "       [[232, 234],\n",
       "        [259, 240],\n",
       "        [261, 260],\n",
       "        [260, 264],\n",
       "        [278, 248],\n",
       "        [268, 256]]])"
      ]
     },
     "execution_count": 68,
     "metadata": {},
     "output_type": "execute_result"
    }
   ],
   "source": [
    "broad_np = heights_np + weights\n",
    "broad_np"
   ]
  },
  {
   "cell_type": "markdown",
   "metadata": {
    "id": "K2eVe5XLZ5pV"
   },
   "source": [
    "Although the arrays have different dimensions, `numpy` makes a sum for the corresponding elements in common rows and columns, in such a way that the elements of the column vector `heights_np` are added with each column of the two-dimensional vector `weights`.\n",
    "\n",
    "Let's look at one more example:"
   ]
  },
  {
   "cell_type": "code",
   "execution_count": 69,
   "metadata": {
    "id": "Jv6Xd5T0Z5pW"
   },
   "outputs": [],
   "source": [
    "x = np.ones((3,4))\n",
    "y = np.random.random((5,1,4))"
   ]
  },
  {
   "cell_type": "code",
   "execution_count": 70,
   "metadata": {
    "id": "IKK23tiTZ5pZ",
    "outputId": "22e9cadb-22c9-4699-aba8-cc2cd144e215"
   },
   "outputs": [
    {
     "data": {
      "text/plain": [
       "array([[1., 1., 1., 1.],\n",
       "       [1., 1., 1., 1.],\n",
       "       [1., 1., 1., 1.]])"
      ]
     },
     "execution_count": 70,
     "metadata": {},
     "output_type": "execute_result"
    }
   ],
   "source": [
    "x"
   ]
  },
  {
   "cell_type": "code",
   "execution_count": 71,
   "metadata": {
    "id": "V7UWQpQQZ5pd",
    "outputId": "4ad0aed6-0ada-4a0d-af93-b858cbb30597"
   },
   "outputs": [
    {
     "data": {
      "text/plain": [
       "array([[[0.33710195, 0.69559126, 0.61013971, 0.79724559]],\n",
       "\n",
       "       [[0.49166499, 0.01842407, 0.06155829, 0.73607972]],\n",
       "\n",
       "       [[0.06080519, 0.65291915, 0.94766057, 0.23136247]],\n",
       "\n",
       "       [[0.86907509, 0.9307261 , 0.02197357, 0.59190876]],\n",
       "\n",
       "       [[0.44802338, 0.1974415 , 0.17375207, 0.13882287]]])"
      ]
     },
     "execution_count": 71,
     "metadata": {},
     "output_type": "execute_result"
    }
   ],
   "source": [
    "y"
   ]
  },
  {
   "cell_type": "code",
   "execution_count": 72,
   "metadata": {
    "id": "B7LG4m8xZ5ph",
    "outputId": "95315455-8769-41db-82c1-752b2bba5642"
   },
   "outputs": [
    {
     "data": {
      "text/plain": [
       "array([[[1.33710195, 1.69559126, 1.61013971, 1.79724559],\n",
       "        [1.33710195, 1.69559126, 1.61013971, 1.79724559],\n",
       "        [1.33710195, 1.69559126, 1.61013971, 1.79724559]],\n",
       "\n",
       "       [[1.49166499, 1.01842407, 1.06155829, 1.73607972],\n",
       "        [1.49166499, 1.01842407, 1.06155829, 1.73607972],\n",
       "        [1.49166499, 1.01842407, 1.06155829, 1.73607972]],\n",
       "\n",
       "       [[1.06080519, 1.65291915, 1.94766057, 1.23136247],\n",
       "        [1.06080519, 1.65291915, 1.94766057, 1.23136247],\n",
       "        [1.06080519, 1.65291915, 1.94766057, 1.23136247]],\n",
       "\n",
       "       [[1.86907509, 1.9307261 , 1.02197357, 1.59190876],\n",
       "        [1.86907509, 1.9307261 , 1.02197357, 1.59190876],\n",
       "        [1.86907509, 1.9307261 , 1.02197357, 1.59190876]],\n",
       "\n",
       "       [[1.44802338, 1.1974415 , 1.17375207, 1.13882287],\n",
       "        [1.44802338, 1.1974415 , 1.17375207, 1.13882287],\n",
       "        [1.44802338, 1.1974415 , 1.17375207, 1.13882287]]])"
      ]
     },
     "execution_count": 72,
     "metadata": {},
     "output_type": "execute_result"
    }
   ],
   "source": [
    "z = x + y\n",
    "z"
   ]
  },
  {
   "cell_type": "markdown",
   "metadata": {
    "id": "CoMIA9U8Z5pk"
   },
   "source": [
    "Here each row in array `y` has been paired with rows in array `x`, since they have the same amount of column. The result is an array with triple the rows of array `y` and the same number of columns."
   ]
  },
  {
   "cell_type": "markdown",
   "metadata": {
    "id": "qd9pZx8_Z5pl"
   },
   "source": [
    "## Exercise 5\n",
    "\n",
    "Propose an array `y` such that the operation $x + y$ results in the array `z`.\n",
    "```\n",
    "x = [[14, 15, 18],\n",
    "    [62, 90, 98],\n",
    "    [71, 73, 90],\n",
    "    [40, 24, 17],\n",
    "    [11, 81, 14],\n",
    "    [26, 81, 31]]\n",
    "\n",
    "z = [[24,  40,  58],\n",
    "    [72, 115, 138],\n",
    "    [81,  98, 130],\n",
    "    [50,  49,  57],\n",
    "    [21, 106,  54],\n",
    "    [36, 106,  71]]\n",
    "```"
   ]
  },
  {
   "cell_type": "markdown",
   "metadata": {
    "id": "idYZ1SK-Z5pm"
   },
   "source": [
    "**Answer:**"
   ]
  },
  {
   "cell_type": "code",
   "execution_count": 73,
   "metadata": {
    "id": "iKK-jmTLZ5pm",
    "outputId": "d6526f4f-b308-4688-f38f-75632192a0ab"
   },
   "outputs": [
    {
     "data": {
      "text/plain": [
       "True"
      ]
     },
     "execution_count": 73,
     "metadata": {},
     "output_type": "execute_result"
    }
   ],
   "source": [
    "# x and z arrays\n",
    "x = np.array([[14,15,18],[62,90,98],[71,73,90],[40,24,17],[11,81,14],[26,81,31]])\n",
    "z = np.array([[24,40,58],[72,115,138],[81,98,130],[50,49,57],[21,106,54],[36,106,71]])\n",
    "\n",
    "# y array definition\n",
    "y = np.array([[10, 25, 40]]) # This is the 'y' array needed\n",
    "adding = x + y\n",
    "\n",
    "# broadcasting verification\n",
    "np.array_equal(z, adding)"
   ]
  },
  {
   "cell_type": "markdown",
   "metadata": {
    "id": "v_-gRJ7gZ5pp"
   },
   "source": [
    "## 9.Matrix multiplication"
   ]
  },
  {
   "cell_type": "markdown",
   "metadata": {
    "id": "gr_EnveCZ5pq"
   },
   "source": [
    "Let's delve into the element-wise and dot product multiplication between matrices (two-dimensional arrays). First, we define two matrices:"
   ]
  },
  {
   "cell_type": "code",
   "execution_count": 74,
   "metadata": {
    "id": "s_hTILL0Z5pq",
    "outputId": "1fe9b6e9-48e3-4e1d-899a-997fdb5280bb"
   },
   "outputs": [
    {
     "name": "stdout",
     "output_type": "stream",
     "text": [
      "Matrix A:\n",
      " [[1 1 8]\n",
      " [0 1 9]\n",
      " [9 0 8]] \n",
      "\n",
      "MATRIX B:\n",
      " [[2 0 0]\n",
      " [3 4 9]\n",
      " [7 8 9]] \n",
      "\n"
     ]
    }
   ],
   "source": [
    "A = np.array([[1,1,8],[0,1,9],[9,0,8]])\n",
    "print(\"Matrix A:\\n\", A, '\\n')\n",
    "\n",
    "B = np.array([[2,0,0],[3,4,9],[7,8,9]])\n",
    "print('MATRIX B:\\n', B, '\\n')"
   ]
  },
  {
   "cell_type": "markdown",
   "metadata": {
    "id": "-Qk9PSgWZ5ps"
   },
   "source": [
    "The product between the two matrices can be executed with the classic arithmetic operator `*`:"
   ]
  },
  {
   "cell_type": "code",
   "execution_count": 75,
   "metadata": {
    "id": "trJs0pT4Z5pt",
    "outputId": "50cbb390-1685-4c42-c7d1-0f83fc24abe1"
   },
   "outputs": [
    {
     "name": "stdout",
     "output_type": "stream",
     "text": [
      "Element wise multiplication:\n",
      " [[ 2  0  0]\n",
      " [ 0  4 81]\n",
      " [63  0 72]] \n",
      "\n"
     ]
    }
   ],
   "source": [
    "print(\"Element wise multiplication:\\n\", A*B, '\\n')"
   ]
  },
  {
   "cell_type": "markdown",
   "metadata": {
    "id": "XvvOP3zZZ5pv"
   },
   "source": [
    "The dot product of matrices can be executed with the `@` operator or with the numpy `np.dot()` function:"
   ]
  },
  {
   "cell_type": "code",
   "execution_count": 76,
   "metadata": {
    "id": "XLRqk59oZ5pw",
    "outputId": "03553344-c9cb-41d5-d96f-933f9055a5ec"
   },
   "outputs": [
    {
     "name": "stdout",
     "output_type": "stream",
     "text": [
      "Matrix product:\n",
      " [[61 68 81]\n",
      " [66 76 90]\n",
      " [74 64 72]] \n",
      "\n",
      "Dot product:\n",
      " [[61 68 81]\n",
      " [66 76 90]\n",
      " [74 64 72]] \n",
      "\n"
     ]
    }
   ],
   "source": [
    "print(\"Matrix product:\\n\", A@B, '\\n') # matrix A = (2 ,3) , matrix B= (3,4), output matrix =( 2,4)\n",
    "print(\"Dot product:\\n\", A.dot(B), '\\n')"
   ]
  },
  {
   "cell_type": "markdown",
   "metadata": {
    "id": "JZWHSnNbZ5p0"
   },
   "source": [
    "## 10. Arrays with `random` numbers"
   ]
  },
  {
   "cell_type": "markdown",
   "metadata": {
    "id": "UiujlgIpZ5p0"
   },
   "source": [
    "A random number is a result of a variable combination specified by a distribution function. When no distribution is specified, it is assumed that the continuous uniform distribution in the interval [0,1) is used. Some functions for generating random numpy numbers are:\n",
    "- `np.random.random()`: returns random floats in the half-open interval [0.0, 1.0)\n",
    "- `np.random.randint(low, high)`: returns random integers from low (inclusive) to high (exclusive).\n",
    "- `np.random.normal()`: returns random samples from a normal (Gaussian) distribution.\n",
    "\n",
    "Let's see some examples:"
   ]
  },
  {
   "cell_type": "code",
   "execution_count": 77,
   "metadata": {
    "id": "tVKK7CLqZ5p1",
    "outputId": "b9a4180f-9296-452f-907f-437a77ca49e4"
   },
   "outputs": [
    {
     "data": {
      "text/plain": [
       "array([[0.2819382 , 0.22706188, 0.50291467],\n",
       "       [0.13656744, 0.18508796, 0.12489949],\n",
       "       [0.46174357, 0.8844794 , 0.55017563],\n",
       "       [0.64110241, 0.45760001, 0.90808203]])"
      ]
     },
     "execution_count": 77,
     "metadata": {},
     "output_type": "execute_result"
    }
   ],
   "source": [
    "np.random.random((4,3))"
   ]
  },
  {
   "cell_type": "code",
   "execution_count": 78,
   "metadata": {
    "id": "yjO16WU8Z5p5",
    "outputId": "60119b45-ba81-40a1-c1fc-bd949c95a3ec"
   },
   "outputs": [
    {
     "data": {
      "text/plain": [
       "array([[15, 15, 13, 14],\n",
       "       [15, 11, 13, 16]])"
      ]
     },
     "execution_count": 78,
     "metadata": {},
     "output_type": "execute_result"
    }
   ],
   "source": [
    "np.random.randint(10, 20, size=(2, 4))"
   ]
  },
  {
   "cell_type": "code",
   "execution_count": 79,
   "metadata": {
    "id": "D_fGM7DmZ5p8",
    "outputId": "bb0c6a46-576e-4d61-9e16-3946fec4797a"
   },
   "outputs": [
    {
     "data": {
      "text/plain": [
       "array([-0.40455185, -0.90379499,  1.61165058,  0.42559075, -0.5153931 ,\n",
       "       -0.32929625,  0.5812349 , -0.35719392, -1.11393743, -0.81636654])"
      ]
     },
     "execution_count": 79,
     "metadata": {},
     "output_type": "execute_result"
    }
   ],
   "source": [
    "np.random.normal(size=10)"
   ]
  },
  {
   "cell_type": "markdown",
   "metadata": {
    "id": "tTkdzBtlZ5qC"
   },
   "source": [
    "Ee can also specify a `seed`, so that the sequence of random numbers is repeatable (if you execute the following code several times, you will get the same random results):"
   ]
  },
  {
   "cell_type": "code",
   "execution_count": 80,
   "metadata": {
    "id": "s0k8ClTEZ5qD",
    "outputId": "f1f62125-ae5c-4315-a8f8-bbb71c0697a1"
   },
   "outputs": [
    {
     "name": "stdout",
     "output_type": "stream",
     "text": [
      "[0.37454012 0.95071431 0.73199394 0.59865848 0.15601864 0.15599452\n",
      " 0.05808361 0.86617615 0.60111501 0.70807258]\n"
     ]
    }
   ],
   "source": [
    "from numpy.random import seed\n",
    "from numpy.random import rand\n",
    "\n",
    "# Seed random number generator\n",
    "seed(42)\n",
    "\n",
    "# Generate random numbers between 0-1\n",
    "values = rand(10)\n",
    "print(values)"
   ]
  },
  {
   "cell_type": "markdown",
   "metadata": {
    "id": "5it3E9MjZ5qM"
   },
   "source": [
    "## 11. Concatenate, and stack `Numpy` arrays"
   ]
  },
  {
   "cell_type": "markdown",
   "metadata": {
    "id": "fHatrcmgZ5qN"
   },
   "source": [
    "The **concatenation** `np.concatenate()` is a process of joining several arrays to form one, on the same axis. **Stacking** `np.stack()` is a process of joining arrays on a new axis. Let's dive a little bit more on this concepts with practical examples:"
   ]
  },
  {
   "cell_type": "code",
   "execution_count": 81,
   "metadata": {
    "id": "-lPKFCvCZ5qO",
    "outputId": "ba396d3b-f649-4ee3-d325-437a5dba8e3a"
   },
   "outputs": [
    {
     "name": "stdout",
     "output_type": "stream",
     "text": [
      "x: \t   [1 4 5 6]\n",
      "my_array:  [ 1  2 34  5]\n"
     ]
    }
   ],
   "source": [
    "my_array = np.array([1,2,34,5])\n",
    "x = np.array([1,4,5,6])\n",
    "print('x: \\t  ', x)\n",
    "print('my_array: ', my_array)"
   ]
  },
  {
   "cell_type": "code",
   "execution_count": 82,
   "metadata": {
    "id": "jFgTZtXKZ5qS",
    "outputId": "ded955f3-ab32-4b73-ed09-3f2cce2e0a5d"
   },
   "outputs": [
    {
     "name": "stdout",
     "output_type": "stream",
     "text": [
      "Append:\n",
      " [ 1  2 34  5  1  4  5  6]\n",
      "\n",
      "Concatenate:\n",
      " [ 1  2 34  5  1  4  5  6]\n"
     ]
    }
   ],
   "source": [
    "print('Append:\\n',np.append(my_array,x))\n",
    "y = np.append(my_array, x)\n",
    "\n",
    "# Concatentate `my_array` and `x`\n",
    "print('\\nConcatenate:\\n',np.concatenate((my_array,x)))"
   ]
  },
  {
   "cell_type": "code",
   "execution_count": 83,
   "metadata": {
    "id": "29Y3P5WbZ5qU",
    "outputId": "983c20e4-84fe-40e5-fd97-e898fd68da91"
   },
   "outputs": [
    {
     "name": "stdout",
     "output_type": "stream",
     "text": [
      "Stack row wise:\n",
      "[[ 1  2 34  5]\n",
      " [ 1  4  5  6]]\n"
     ]
    }
   ],
   "source": [
    "# Stack arrays vertically (row-wise)\n",
    "print(\"Stack row wise:\")\n",
    "print(np.vstack((my_array, x)))"
   ]
  },
  {
   "cell_type": "code",
   "execution_count": 84,
   "metadata": {
    "id": "OyENnOVrZ5qY",
    "outputId": "57db90bd-09de-43d3-bc42-c847757b223e"
   },
   "outputs": [
    {
     "name": "stdout",
     "output_type": "stream",
     "text": [
      "Stack horizantally:\n",
      "[ 1  2 34  5  1  4  5  6]\n",
      "\n",
      "Another way:\n",
      "[ 1  2 34  5  1  4  5  6]\n"
     ]
    }
   ],
   "source": [
    "# Stack arrays horizontally\n",
    "print(\"Stack horizantally:\")\n",
    "print(np.hstack((my_array,x)))\n",
    "\n",
    "print(\"\\nAnother way:\")\n",
    "print(np.r_[my_array,x])"
   ]
  },
  {
   "cell_type": "code",
   "execution_count": 85,
   "metadata": {
    "id": "1j2KYDPuZ5qa",
    "outputId": "8964db49-ea71-4eda-891c-6938bbe7a8b4"
   },
   "outputs": [
    {
     "name": "stdout",
     "output_type": "stream",
     "text": [
      "Stack column wise:\n",
      "[[ 1  1]\n",
      " [ 2  4]\n",
      " [34  5]\n",
      " [ 5  6]]\n",
      "\n",
      "Column wise repeat:\n",
      "[[ 1  1]\n",
      " [ 2  4]\n",
      " [34  5]\n",
      " [ 5  6]]\n"
     ]
    }
   ],
   "source": [
    "# Stack arrays column-wise\n",
    "print(\"Stack column wise:\")\n",
    "print(np.column_stack(( my_array,x)))\n",
    "\n",
    "print(\"\\nColumn wise repeat:\")\n",
    "print(np.c_[ my_array,x])"
   ]
  },
  {
   "cell_type": "markdown",
   "metadata": {
    "id": "0-iErP4tZ5qc"
   },
   "source": [
    "As you have seen, when we concatenate the arrays, we do it on the same axis. When stacking arrays, we do it on a new axis."
   ]
  },
  {
   "cell_type": "markdown",
   "metadata": {
    "id": "hm1LM39XZ5qd"
   },
   "source": [
    "## 12. Visualize `Numpy` array"
   ]
  },
  {
   "cell_type": "markdown",
   "metadata": {
    "id": "ktM-rkhpZ5qd"
   },
   "source": [
    "To visualize the content of a numpy array we can make use of the `matplotlib.pyplot` library, which allows us to visualize data and its distributions, among many other functions."
   ]
  },
  {
   "cell_type": "code",
   "execution_count": 86,
   "metadata": {
    "id": "ZB5qyJZkZ5qd"
   },
   "outputs": [],
   "source": [
    "import matplotlib.pyplot as plt"
   ]
  },
  {
   "cell_type": "markdown",
   "metadata": {
    "id": "wjL90VTbZ5qf"
   },
   "source": [
    "Let's specify an initial state for the Mersenne Twister number generator, a pseudo-random number generator:"
   ]
  },
  {
   "cell_type": "code",
   "execution_count": 87,
   "metadata": {
    "id": "qc86Bv2-Z5qg"
   },
   "outputs": [],
   "source": [
    "rng = np.random.RandomState(10)  "
   ]
  },
  {
   "cell_type": "markdown",
   "metadata": {
    "id": "8-FRPjxTZ5qi"
   },
   "source": [
    "Now we generate random values of two normal distributions with different mean and standard deviation, a distribution of mean 0 and another of mean 5, stacking them in a single array horizontally:"
   ]
  },
  {
   "cell_type": "code",
   "execution_count": 88,
   "metadata": {
    "id": "TxXtC9EJZ5qi",
    "outputId": "a8aed07e-a503-4068-f1d6-d7a0a385362d"
   },
   "outputs": [
    {
     "data": {
      "text/plain": [
       "array([ 1.3315865 ,  0.71527897, -1.54540029, ...,  5.74446677,\n",
       "        6.22449239,  8.42055014])"
      ]
     },
     "execution_count": 88,
     "metadata": {},
     "output_type": "execute_result"
    }
   ],
   "source": [
    "a = np.hstack((rng.normal(size=1000),rng.normal(loc=5, scale=2, size=1000)))\n",
    "a"
   ]
  },
  {
   "cell_type": "markdown",
   "metadata": {
    "id": "FnETh3ORZ5ql"
   },
   "source": [
    "Let's visualize the data of the number arrangement of the two distributions, in a histogram with the help of the library `matplotlib.pyplot` to which we have aliased `plt`:"
   ]
  },
  {
   "cell_type": "code",
   "execution_count": 89,
   "metadata": {
    "id": "hdEF9hnxZ5ql",
    "outputId": "d75b1a9c-e3de-4b8d-a37d-cce2ad6adda5"
   },
   "outputs": [
    {
     "data": {
      "image/png": "[encoded data removed]",
      "text/plain": [
       "<Figure size 432x288 with 1 Axes>"
      ]
     },
     "metadata": {
      "needs_background": "light"
     },
     "output_type": "display_data"
    }
   ],
   "source": [
    "plt.hist(a, bins='auto')\n",
    "plt.title(\"Histogram\")\n",
    "plt.show()"
   ]
  },
  {
   "cell_type": "markdown",
   "metadata": {
    "id": "WsJtUtjfZ5qn"
   },
   "source": [
    "As can be seen, this graph denotes the distribution of the two normal distributions with a mean of 0 and 5.\n",
    "\n",
    "As an additional example, we are creating a meshgrid `np.meshgrid()` with values generated from an array of `numpy` with initial value of 5, final value of -5 (exclusive) and step of 0.01. We have calculated the value of `z` which corresponds to the general equation of a circle, so that we can generate the graph shown below:"
   ]
  },
  {
   "cell_type": "code",
   "execution_count": 90,
   "metadata": {
    "id": "eKU0soJgZ5qo",
    "outputId": "87fabf78-cf78-44db-951e-fbb236897655"
   },
   "outputs": [
    {
     "data": {
      "image/png": "[encoded data removed]",
      "text/plain": [
       "<Figure size 432x288 with 2 Axes>"
      ]
     },
     "metadata": {
      "needs_background": "light"
     },
     "output_type": "display_data"
    }
   ],
   "source": [
    "# Create an array\n",
    "points = np.arange(-5, 5, 0.01)\n",
    "\n",
    "# Make a meshgrid\n",
    "xs, ys = np.meshgrid(points, points)\n",
    "z = np.sqrt(xs ** 2 + ys ** 2)\n",
    "\n",
    "# Display the image on the axes\n",
    "plt.imshow(z, cmap=plt.cm.Reds)\n",
    "\n",
    "# Draw a color bar\n",
    "plt.colorbar()\n",
    "\n",
    "# Show the plot\n",
    "plt.show()"
   ]
  },
  {
   "cell_type": "markdown",
   "metadata": {
    "id": "lBxg4bMPZ5qq"
   },
   "source": [
    "## 13. Save the numpy ndarray object into a npy file"
   ]
  },
  {
   "cell_type": "markdown",
   "metadata": {
    "id": "OQKY666fZ5qq"
   },
   "source": [
    "Finally, one of the most important parts of the entire analysis process, the storage of the results. We can do this with the `np.savetxt()` function:"
   ]
  },
  {
   "cell_type": "code",
   "execution_count": 91,
   "metadata": {
    "id": "s9rIm7OUZ5qr"
   },
   "outputs": [],
   "source": [
    "import numpy as np\n",
    "x = np.arange(0.0,5.0,1.0)\n",
    "np.savetxt('test.txt', x, delimiter=',')"
   ]
  },
  {
   "cell_type": "markdown",
   "metadata": {
    "id": "tCG42iNBZ5qt"
   },
   "source": [
    "## Conclusions"
   ]
  },
  {
   "cell_type": "markdown",
   "metadata": {
    "id": "oXHCZZeJZ5qt"
   },
   "source": [
    "We have learned the fundamentals of the `numpy` library for scientific computing, which allows us to create multidimensional arrays and operate them using arithmetic, logical, and relational operators. We have also learned how to restructure arrangements in various ways, as well as the basic tools for visualization. \n",
    "\n",
    "In the next case study, we will see what is related to the `pandas` library, so we are ready to do data analysis dynamically and efficiently!"
   ]
  }
 ],
 "metadata": {
  "colab": {
   "collapsed_sections": [
    "u_RFHq9IZ5lW",
    "OEAFjhItZ5lw",
    "pRxr5INlZ5l5",
    "_xDe3cqVZ5mC",
    "YRK15CWFZ5mb",
    "2M2BtpIeZ5mp",
    "bEhC2JC3Z5m1",
    "jBx2wpKWZ5nR",
    "cmXdbpmSZ5n7",
    "WhXq8SAVZ5n9",
    "FI00PwvqZ5oR",
    "lBTEElimZ5ol",
    "7QszcDUbZ5ox",
    "pOnhsLLXZ5pI",
    "qd9pZx8_Z5pl",
    "v_-gRJ7gZ5pp",
    "JZWHSnNbZ5p0",
    "5it3E9MjZ5qM",
    "hm1LM39XZ5qd",
    "lBxg4bMPZ5qq",
    "tCG42iNBZ5qt"
   ],
   "name": "Numpy_Exercises_Solutions.ipynb",
   "provenance": []
  },
  "kernelspec": {
   "display_name": "Python 3",
   "language": "python",
   "name": "python3"
  },
  "language_info": {
   "codemirror_mode": {
    "name": "ipython",
    "version": 3
   },
   "file_extension": ".py",
   "mimetype": "text/x-python",
   "name": "python",
   "nbconvert_exporter": "python",
   "pygments_lexer": "ipython3",
   "version": "3.8.8"
  }
 },
 "nbformat": 4,
 "nbformat_minor": 1
}
